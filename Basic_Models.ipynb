{
 "cells": [
  {
   "cell_type": "markdown",
   "id": "506654fc",
   "metadata": {},
   "source": [
    "# Sonar System Object Classification "
   ]
  },
  {
   "cell_type": "markdown",
   "id": "eb1c682d",
   "metadata": {},
   "source": [
    "## The Problem "
   ]
  },
  {
   "cell_type": "code",
   "execution_count": null,
   "id": "b3cd8ae8",
   "metadata": {},
   "outputs": [],
   "source": []
  },
  {
   "cell_type": "markdown",
   "id": "3d556eb8",
   "metadata": {},
   "source": [
    "## Data"
   ]
  },
  {
   "cell_type": "code",
   "execution_count": 1,
   "id": "eabd6203",
   "metadata": {},
   "outputs": [],
   "source": [
    "# Manipulate data\n",
    "using CSV \n",
    "using DataFrames\n",
    "# Data exploration and visualization\n",
    "using PrettyPrinting\n",
    "import Statistics\n",
    "# Create pseudo-random numbers\n",
    "using StableRNGs\n",
    "\n",
    "### Machine Learning Framework ### \n",
    "using MLJ "
   ]
  },
  {
   "cell_type": "code",
   "execution_count": 2,
   "id": "fa033c1b",
   "metadata": {},
   "outputs": [
    {
     "ename": "LoadError",
     "evalue": "ArgumentError: \"sonar.csv\" is not a valid file or doesn't exist",
     "output_type": "error",
     "traceback": [
      "ArgumentError: \"sonar.csv\" is not a valid file or doesn't exist",
      "",
      "Stacktrace:",
      " [1] CSV.Context(source::CSV.Arg, header::CSV.Arg, normalizenames::CSV.Arg, datarow::CSV.Arg, skipto::CSV.Arg, footerskip::CSV.Arg, transpose::CSV.Arg, comment::CSV.Arg, ignoreemptyrows::CSV.Arg, ignoreemptylines::CSV.Arg, select::CSV.Arg, drop::CSV.Arg, limit::CSV.Arg, buffer_in_memory::CSV.Arg, threaded::CSV.Arg, ntasks::CSV.Arg, tasks::CSV.Arg, rows_to_check::CSV.Arg, lines_to_check::CSV.Arg, missingstrings::CSV.Arg, missingstring::CSV.Arg, delim::CSV.Arg, ignorerepeated::CSV.Arg, quoted::CSV.Arg, quotechar::CSV.Arg, openquotechar::CSV.Arg, closequotechar::CSV.Arg, escapechar::CSV.Arg, dateformat::CSV.Arg, dateformats::CSV.Arg, decimal::CSV.Arg, truestrings::CSV.Arg, falsestrings::CSV.Arg, stripwhitespace::CSV.Arg, type::CSV.Arg, types::CSV.Arg, typemap::CSV.Arg, pool::CSV.Arg, downcast::CSV.Arg, lazystrings::CSV.Arg, stringtype::CSV.Arg, strict::CSV.Arg, silencewarnings::CSV.Arg, maxwarnings::CSV.Arg, debug::CSV.Arg, parsingdebug::CSV.Arg, validate::CSV.Arg, streaming::CSV.Arg)",
      "   @ CSV C:\\Users\\JSeba\\.julia\\packages\\CSV\\cHirL\\src\\context.jl:236",
      " [2] #File#25",
      "   @ C:\\Users\\JSeba\\.julia\\packages\\CSV\\cHirL\\src\\file.jl:221 [inlined]",
      " [3] File",
      "   @ C:\\Users\\JSeba\\.julia\\packages\\CSV\\cHirL\\src\\file.jl:221 [inlined]",
      " [4] read(source::String, sink::Type; copycols::Bool, kwargs::Base.Pairs{Symbol, Union{}, Tuple{}, NamedTuple{(), Tuple{}}})",
      "   @ CSV C:\\Users\\JSeba\\.julia\\packages\\CSV\\cHirL\\src\\CSV.jl:91",
      " [5] read(source::String, sink::Type)",
      "   @ CSV C:\\Users\\JSeba\\.julia\\packages\\CSV\\cHirL\\src\\CSV.jl:88",
      " [6] top-level scope",
      "   @ In[2]:2",
      " [7] eval",
      "   @ .\\boot.jl:373 [inlined]",
      " [8] include_string(mapexpr::typeof(REPL.softscope), mod::Module, code::String, filename::String)",
      "   @ Base .\\loading.jl:1196"
     ]
    }
   ],
   "source": [
    "# Loading the data\n",
    "df = CSV.read(\"sonar.csv\",DataFrame)\n",
    "first(df,4)"
   ]
  },
  {
   "cell_type": "code",
   "execution_count": null,
   "id": "43ee776f",
   "metadata": {},
   "outputs": [],
   "source": []
  }
 ],
 "metadata": {
  "@webio": {
   "lastCommId": null,
   "lastKernelId": null
  },
  "kernelspec": {
   "display_name": "Julia 1.7.2",
   "language": "julia",
   "name": "julia-1.7"
  },
  "language_info": {
   "file_extension": ".jl",
   "mimetype": "application/julia",
   "name": "julia",
   "version": "1.7.2"
  }
 },
 "nbformat": 4,
 "nbformat_minor": 5
}
